{
 "cells": [
  {
   "cell_type": "markdown",
   "id": "b4a07a89",
   "metadata": {},
   "source": [
    "# Classes\n",
    "* Public and private attributes\n",
    "* Inheritance\n",
    "* Property\n",
    "* classmethod, staticmethod\n",
    "\n",
    "\n",
    "# Public and Private Attributes"
   ]
  },
  {
   "cell_type": "code",
   "execution_count": 10,
   "id": "3469d6fd",
   "metadata": {},
   "outputs": [
    {
     "data": {
      "text/plain": [
       "5000"
      ]
     },
     "execution_count": 10,
     "metadata": {},
     "output_type": "execute_result"
    }
   ],
   "source": [
    "class Person:\n",
    "    def __init__(self, name, age, salary):\n",
    "        self.name = name\n",
    "        self.age = age \n",
    "        self.__salary = salary\n",
    "        self._email = 'test email'\n",
    "    def print_salary(self):\n",
    "        return self.__salary\n",
    "person = Person(\"John\", 30, 5000)\n",
    "person.print_salary()"
   ]
  },
  {
   "cell_type": "code",
   "execution_count": 11,
   "id": "834c142b",
   "metadata": {},
   "outputs": [
    {
     "data": {
      "text/plain": [
       "'test email'"
      ]
     },
     "execution_count": 11,
     "metadata": {},
     "output_type": "execute_result"
    }
   ],
   "source": [
    "person._email"
   ]
  },
  {
   "cell_type": "code",
   "execution_count": 2,
   "id": "9360363c",
   "metadata": {},
   "outputs": [
    {
     "name": "stdout",
     "output_type": "stream",
     "text": [
      "John\n"
     ]
    }
   ],
   "source": [
    "print(person.name)  "
   ]
  },
  {
   "cell_type": "code",
   "execution_count": 3,
   "id": "ce84bb14",
   "metadata": {},
   "outputs": [
    {
     "name": "stdout",
     "output_type": "stream",
     "text": [
      "30\n"
     ]
    }
   ],
   "source": [
    "print(person.age)"
   ]
  },
  {
   "cell_type": "code",
   "execution_count": null,
   "id": "cbc75e83",
   "metadata": {},
   "outputs": [],
   "source": [
    "print(person.__salary)"
   ]
  },
  {
   "cell_type": "code",
   "execution_count": 5,
   "id": "6a547e45",
   "metadata": {},
   "outputs": [
    {
     "data": {
      "text/plain": [
       "['_Person__salary',\n",
       " '__class__',\n",
       " '__delattr__',\n",
       " '__dict__',\n",
       " '__dir__',\n",
       " '__doc__',\n",
       " '__eq__',\n",
       " '__format__',\n",
       " '__ge__',\n",
       " '__getattribute__',\n",
       " '__getstate__',\n",
       " '__gt__',\n",
       " '__hash__',\n",
       " '__init__',\n",
       " '__init_subclass__',\n",
       " '__le__',\n",
       " '__lt__',\n",
       " '__module__',\n",
       " '__ne__',\n",
       " '__new__',\n",
       " '__reduce__',\n",
       " '__reduce_ex__',\n",
       " '__repr__',\n",
       " '__setattr__',\n",
       " '__sizeof__',\n",
       " '__str__',\n",
       " '__subclasshook__',\n",
       " '__weakref__',\n",
       " 'age',\n",
       " 'name']"
      ]
     },
     "execution_count": 5,
     "metadata": {},
     "output_type": "execute_result"
    }
   ],
   "source": [
    "dir(person)"
   ]
  },
  {
   "cell_type": "code",
   "execution_count": 7,
   "id": "44c95b13",
   "metadata": {},
   "outputs": [
    {
     "data": {
      "text/plain": [
       "5000"
      ]
     },
     "execution_count": 7,
     "metadata": {},
     "output_type": "execute_result"
    }
   ],
   "source": [
    "person._Person__salary"
   ]
  },
  {
   "cell_type": "code",
   "execution_count": 14,
   "id": "53b696d7",
   "metadata": {},
   "outputs": [
    {
     "name": "stdout",
     "output_type": "stream",
     "text": [
      "1500\n",
      "1530.0\n"
     ]
    }
   ],
   "source": [
    "class BankAccount:\n",
    "    def __init__(self, account_number, balance):\n",
    "        self.account_number = account_number\n",
    "        self.__balance = balance\n",
    "\n",
    "    def deposit(self, amount):\n",
    "        if amount > 0:\n",
    "            self.__balance += amount\n",
    "        return self.__balance\n",
    "\n",
    "    def __calculate_insterest(self):\n",
    "        return self.__balance * 0.02\n",
    "    def show_balance_with_interest(self):\n",
    "        return self.__balance + self.__calculate_insterest()\n",
    "account = BankAccount(\"123456789\", 1000)\n",
    "print(account.deposit(500))\n",
    "# print(account.__balance)\n",
    "print(account.show_balance_with_interest())"
   ]
  },
  {
   "cell_type": "markdown",
   "id": "ba941dce",
   "metadata": {},
   "source": [
    "# Inheritance"
   ]
  },
  {
   "cell_type": "markdown",
   "id": "786f5b6a",
   "metadata": {},
   "source": [
    "```python\n",
    "class ChildClass(ParentClass):\n",
    "    pass\n",
    "```"
   ]
  },
  {
   "cell_type": "code",
   "execution_count": null,
   "id": "334f9f43",
   "metadata": {},
   "outputs": [],
   "source": [
    "class EmptyClass(object):\n",
    "    pass\n",
    "dir(EmptyClass)"
   ]
  },
  {
   "cell_type": "code",
   "execution_count": null,
   "id": "25498253",
   "metadata": {},
   "outputs": [
    {
     "data": {
      "text/plain": [
       "['__class__',\n",
       " '__delattr__',\n",
       " '__dict__',\n",
       " '__dir__',\n",
       " '__doc__',\n",
       " '__eq__',\n",
       " '__format__',\n",
       " '__ge__',\n",
       " '__getattribute__',\n",
       " '__getstate__',\n",
       " '__gt__',\n",
       " '__hash__',\n",
       " '__init__',\n",
       " '__init_subclass__',\n",
       " '__le__',\n",
       " '__lt__',\n",
       " '__module__',\n",
       " '__ne__',\n",
       " '__new__',\n",
       " '__reduce__',\n",
       " '__reduce_ex__',\n",
       " '__repr__',\n",
       " '__setattr__',\n",
       " '__sizeof__',\n",
       " '__str__',\n",
       " '__subclasshook__',\n",
       " '__weakref__']"
      ]
     },
     "execution_count": 15,
     "metadata": {},
     "output_type": "execute_result"
    }
   ],
   "source": [
    "class EmptyClass:\n",
    "    pass\n",
    "dir(EmptyClass)\n"
   ]
  },
  {
   "cell_type": "code",
   "execution_count": 16,
   "id": "1946325d",
   "metadata": {},
   "outputs": [
    {
     "data": {
      "text/plain": [
       "(__main__.EmptyClass, object)"
      ]
     },
     "execution_count": 16,
     "metadata": {},
     "output_type": "execute_result"
    }
   ],
   "source": [
    "EmptyClass.__mro__"
   ]
  },
  {
   "cell_type": "code",
   "execution_count": 17,
   "id": "4e453d97",
   "metadata": {},
   "outputs": [
    {
     "data": {
      "text/plain": [
       "object"
      ]
     },
     "execution_count": 17,
     "metadata": {},
     "output_type": "execute_result"
    }
   ],
   "source": [
    "object"
   ]
  },
  {
   "cell_type": "code",
   "execution_count": 18,
   "id": "47a720e8",
   "metadata": {},
   "outputs": [
    {
     "name": "stdout",
     "output_type": "stream",
     "text": [
      "<class 'object'>\n"
     ]
    }
   ],
   "source": [
    "a = object()\n",
    "print(type(a))"
   ]
  },
  {
   "cell_type": "code",
   "execution_count": 19,
   "id": "3b739116",
   "metadata": {},
   "outputs": [
    {
     "data": {
      "text/plain": [
       "['__class__',\n",
       " '__delattr__',\n",
       " '__dir__',\n",
       " '__doc__',\n",
       " '__eq__',\n",
       " '__format__',\n",
       " '__ge__',\n",
       " '__getattribute__',\n",
       " '__getstate__',\n",
       " '__gt__',\n",
       " '__hash__',\n",
       " '__init__',\n",
       " '__init_subclass__',\n",
       " '__le__',\n",
       " '__lt__',\n",
       " '__ne__',\n",
       " '__new__',\n",
       " '__reduce__',\n",
       " '__reduce_ex__',\n",
       " '__repr__',\n",
       " '__setattr__',\n",
       " '__sizeof__',\n",
       " '__str__',\n",
       " '__subclasshook__']"
      ]
     },
     "execution_count": 19,
     "metadata": {},
     "output_type": "execute_result"
    }
   ],
   "source": [
    "dir(object)"
   ]
  },
  {
   "cell_type": "code",
   "execution_count": 25,
   "id": "f76c72b6",
   "metadata": {},
   "outputs": [
    {
     "name": "stdout",
     "output_type": "stream",
     "text": [
      "Person(name=John, age=40)\n",
      "eating meal\n",
      "walking\n"
     ]
    }
   ],
   "source": [
    "class Person:\n",
    "    def __init__(self, name, age):\n",
    "        self.name = name\n",
    "        self.age = age\n",
    "\n",
    "    def eat(self):\n",
    "        print('eating meal')\n",
    "\n",
    "    def walk(self):\n",
    "        print('walking')\n",
    "\n",
    "    def __str__(self):\n",
    "        return f'Person(name={self.name}, age={self.age})'\n",
    "       \n",
    "p1 = Person('John', 40)\n",
    "print(p1)\n",
    "p1.eat()\n",
    "p1.walk()"
   ]
  },
  {
   "cell_type": "code",
   "execution_count": null,
   "id": "40a91a7f",
   "metadata": {},
   "outputs": [],
   "source": [
    "class Teacher(Person):\n",
    "    pass"
   ]
  },
  {
   "cell_type": "code",
   "execution_count": 27,
   "id": "db65c4f5",
   "metadata": {},
   "outputs": [
    {
     "name": "stdout",
     "output_type": "stream",
     "text": [
      "eating meal\n"
     ]
    }
   ],
   "source": [
    "t = Teacher('Alice', 50)\n",
    "t.eat()"
   ]
  },
  {
   "cell_type": "code",
   "execution_count": 28,
   "id": "d8bffc85",
   "metadata": {},
   "outputs": [
    {
     "data": {
      "text/plain": [
       "(__main__.Teacher, __main__.Person, object)"
      ]
     },
     "execution_count": 28,
     "metadata": {},
     "output_type": "execute_result"
    }
   ],
   "source": [
    "Teacher.__mro__"
   ]
  },
  {
   "cell_type": "code",
   "execution_count": 30,
   "id": "4e3d49c7",
   "metadata": {},
   "outputs": [],
   "source": [
    "class Teacher(Person):\n",
    "    def __init__(self, name, age, subject):\n",
    "        self.name = name\n",
    "        self.age = age  \n",
    "        self.subject = subject"
   ]
  },
  {
   "cell_type": "code",
   "execution_count": 31,
   "id": "649ba8ca",
   "metadata": {},
   "outputs": [
    {
     "name": "stdout",
     "output_type": "stream",
     "text": [
      "eating meal\n"
     ]
    }
   ],
   "source": [
    "t = Teacher('Alice', 50, 'Math')\n",
    "t.eat()"
   ]
  },
  {
   "cell_type": "code",
   "execution_count": null,
   "id": "ec2b0cff",
   "metadata": {},
   "outputs": [],
   "source": [
    "class Teacher(Person):\n",
    "    def __init__(self, name, age, subject):\n",
    "        super().__init__(name, age)\n",
    "        self.subject = subject"
   ]
  },
  {
   "cell_type": "code",
   "execution_count": 33,
   "id": "597b4b99",
   "metadata": {},
   "outputs": [
    {
     "name": "stdout",
     "output_type": "stream",
     "text": [
      "eating meal\n"
     ]
    }
   ],
   "source": [
    "t = Teacher('Alice', 50, 'Math')\n",
    "t.eat()"
   ]
  },
  {
   "cell_type": "code",
   "execution_count": 34,
   "id": "084ca10e",
   "metadata": {},
   "outputs": [
    {
     "data": {
      "text/plain": [
       "'Alice'"
      ]
     },
     "execution_count": 34,
     "metadata": {},
     "output_type": "execute_result"
    }
   ],
   "source": [
    "t.name"
   ]
  },
  {
   "cell_type": "code",
   "execution_count": 39,
   "id": "9ed97cd6",
   "metadata": {},
   "outputs": [],
   "source": [
    "class Teacher(Person):\n",
    "    def __init__(self, name, age, subject):\n",
    "        super().__init__(name, age)\n",
    "        self.subject = subject\n",
    "    def eat(self):\n",
    "        super().eat()\n",
    "        print('teacher is eating')\n",
    "        "
   ]
  },
  {
   "cell_type": "code",
   "execution_count": 40,
   "id": "3264cf30",
   "metadata": {},
   "outputs": [
    {
     "name": "stdout",
     "output_type": "stream",
     "text": [
      "eating meal\n",
      "teacher is eating\n"
     ]
    }
   ],
   "source": [
    "t = Teacher('Alice', 50, 'Math')\n",
    "t.eat()"
   ]
  },
  {
   "cell_type": "code",
   "execution_count": 41,
   "id": "3dc094e7",
   "metadata": {},
   "outputs": [
    {
     "name": "stdout",
     "output_type": "stream",
     "text": [
      "Person(name=Alice, age=45)\n",
      "eating meal\n",
      "walking\n",
      "teaching\n"
     ]
    }
   ],
   "source": [
    "class Teacher(Person):\n",
    "    def __init__(self, name, age, subject):\n",
    "        super().__init__(name, age)\n",
    "        self.subject = subject\n",
    "    def teach(self):\n",
    "        print('teaching')\n",
    "t1 = Teacher('Alice', 45, 'Math')\n",
    "print(t1)\n",
    "t1.eat()\n",
    "t1.walk()\n",
    "t1.teach()"
   ]
  },
  {
   "cell_type": "code",
   "execution_count": 42,
   "id": "13d9bb21",
   "metadata": {},
   "outputs": [
    {
     "name": "stdout",
     "output_type": "stream",
     "text": [
      "Teacher(name=Alice, age=45, subject=Math)\n",
      "eating meal\n",
      "walking\n",
      "teaching\n"
     ]
    }
   ],
   "source": [
    "class Teacher(Person):\n",
    "    def __init__(self, name, age, subject):\n",
    "        super().__init__(name, age)\n",
    "        self.subject = subject\n",
    "    def teach(self):\n",
    "        print('teaching')\n",
    "    def __str__(self):\n",
    "        return f'Teacher(name={self.name}, age={self.age}, subject={self.subject})'\n",
    "t1 = Teacher('Alice', 45, 'Math')\n",
    "print(t1)\n",
    "t1.eat()\n",
    "t1.walk()\n",
    "t1.teach()"
   ]
  },
  {
   "cell_type": "markdown",
   "id": "cc429e73",
   "metadata": {},
   "source": [
    "# Extending Built-in types"
   ]
  },
  {
   "cell_type": "code",
   "execution_count": null,
   "id": "786960cc",
   "metadata": {},
   "outputs": [
    {
     "name": "stdout",
     "output_type": "stream",
     "text": [
      "[1, 2, 3, 4]\n",
      "<class '__main__.NumberList'>\n"
     ]
    }
   ],
   "source": [
    "class NumberList(list):\n",
    "    def append(self, value):\n",
    "        if not isinstance(value, (int, float)):\n",
    "            raise ValueError(\"Can only append numeric types\")\n",
    "        # list.append(self, value)\n",
    "        super().append(value)\n",
    "a = NumberList([1, 2, 3])\n",
    "a.append(4)\n",
    "print(a)\n",
    "print(type(a))"
   ]
  },
  {
   "cell_type": "code",
   "execution_count": null,
   "id": "13d703a2",
   "metadata": {},
   "outputs": [],
   "source": [
    "class NumberList(list):\n",
    "    def __init__(self, *args):\n",
    "        for item in args:\n",
    "            if not isinstance(item, (int, float)):\n",
    "                raise ValueError(item)\n",
    "            super().__init__(args)\n",
    "    def sum(self):\n",
    "        return sum(item for item in self)\n",
    "    def append(self, item):\n",
    "        if not isinstance(item, (int, float)):\n",
    "            super().append(item)\n",
    "    def sum(self):\n",
    "        return sum(self)"
   ]
  },
  {
   "cell_type": "code",
   "execution_count": 46,
   "id": "996f78d5",
   "metadata": {},
   "outputs": [
    {
     "data": {
      "text/plain": [
       "{'a': 1}"
      ]
     },
     "execution_count": 46,
     "metadata": {},
     "output_type": "execute_result"
    }
   ],
   "source": [
    "dict(a=1)"
   ]
  },
  {
   "cell_type": "code",
   "execution_count": 47,
   "id": "90130d63",
   "metadata": {},
   "outputs": [
    {
     "name": "stdout",
     "output_type": "stream",
     "text": [
      "{'a': 1, 'b': 2, 'c': 3}\n"
     ]
    }
   ],
   "source": [
    "class CustomDict(dict):\n",
    "    def __init__(self, *args, **kwargs):\n",
    "        super().__init__(*args, **kwargs)\n",
    "    def invert(self):\n",
    "        return CustomDict({v: k for k, v in self.items()})\n",
    "my_dict = CustomDict(a=1, b=2, c=3)\n",
    "print(my_dict)"
   ]
  },
  {
   "cell_type": "code",
   "execution_count": 48,
   "id": "561a22e5",
   "metadata": {},
   "outputs": [
    {
     "data": {
      "text/plain": [
       "{1: 'a', 2: 'b', 3: 'c'}"
      ]
     },
     "execution_count": 48,
     "metadata": {},
     "output_type": "execute_result"
    }
   ],
   "source": [
    "my_dict.invert()    "
   ]
  },
  {
   "cell_type": "code",
   "execution_count": 50,
   "id": "65a8b94f",
   "metadata": {},
   "outputs": [
    {
     "name": "stdout",
     "output_type": "stream",
     "text": [
      "{'a': 1, 'b': 2, 'c': 3}\n"
     ]
    }
   ],
   "source": [
    "class CustomDict(dict):\n",
    "    def invert(self, in_place = False):\n",
    "        inverted = CustomDict({v: k for k, v in self.items()})\n",
    "my_dict = CustomDict(a=1, b=2, c=3)\n",
    "print(my_dict)"
   ]
  },
  {
   "cell_type": "code",
   "execution_count": 54,
   "id": "d4ff39de",
   "metadata": {},
   "outputs": [],
   "source": [
    "my_dict.invert(in_place=True) "
   ]
  },
  {
   "cell_type": "code",
   "execution_count": 55,
   "id": "4bccbc4b",
   "metadata": {},
   "outputs": [
    {
     "name": "stdout",
     "output_type": "stream",
     "text": [
      "{'a': 1, 'b': 2, 'c': 3}\n"
     ]
    }
   ],
   "source": [
    "print(my_dict)"
   ]
  },
  {
   "cell_type": "code",
   "execution_count": null,
   "id": "009c5a16",
   "metadata": {},
   "outputs": [],
   "source": []
  },
  {
   "cell_type": "code",
   "execution_count": 58,
   "id": "75c903a3",
   "metadata": {},
   "outputs": [
    {
     "name": "stdout",
     "output_type": "stream",
     "text": [
      "[1, 2, 3, 4]\n",
      "[4, 3, 2, 1]\n"
     ]
    }
   ],
   "source": [
    "a = [1, 2, 3]\n",
    "a.append(4)\n",
    "print(a)\n",
    "b = [4, 3, 2]\n",
    "b.append(1)\n",
    "print(b)"
   ]
  },
  {
   "cell_type": "code",
   "execution_count": 60,
   "id": "6c8c9be9",
   "metadata": {},
   "outputs": [
    {
     "data": {
      "text/plain": [
       "[1, 2, 3, 4]"
      ]
     },
     "execution_count": 60,
     "metadata": {},
     "output_type": "execute_result"
    }
   ],
   "source": [
    "b = [1, 2, 3]\n",
    "b.append(4)\n",
    "c = b.copy()\n",
    "b"
   ]
  },
  {
   "cell_type": "markdown",
   "id": "cbd7fa80",
   "metadata": {},
   "source": [
    "# Property\n",
    "\n",
    "# Add validation to Person"
   ]
  },
  {
   "cell_type": "code",
   "execution_count": 65,
   "id": "c68ff41a",
   "metadata": {},
   "outputs": [
    {
     "name": "stdout",
     "output_type": "stream",
     "text": [
      "Person(name=[1, 2, 3], age=-4)\n"
     ]
    }
   ],
   "source": [
    "class Person:\n",
    "    def __init__(self, name, age):\n",
    "        if not isinstance(name, str) or name == '':\n",
    "            raise ValueError(\"name can not be {name!r}\")\n",
    "        self.name = name\n",
    "    def __str__(self):\n",
    "        return f'Person(name={self.name!r}, age={self.age!r})'\n",
    "p1 = Person(name = 'John', age = 2)\n",
    "p1.name = [1, 2, 3]\n",
    "p1.age = - 4\n",
    "print(p1)"
   ]
  },
  {
   "cell_type": "code",
   "execution_count": 66,
   "id": "8d4594c9",
   "metadata": {},
   "outputs": [
    {
     "name": "stdout",
     "output_type": "stream",
     "text": [
      "Person(name='John', age=2)\n",
      "Person(name='John', age=2)\n"
     ]
    }
   ],
   "source": [
    "class Person:\n",
    "    def __init__(self, name, age):\n",
    "        if not isinstance(name, str) or name == '':\n",
    "            raise ValueError(\"name can not be {name!r}\")\n",
    "        self.name = name\n",
    "        if not isinstance(age, int) or age < 0:\n",
    "            raise ValueError(\"age can not be {age!r}\")\n",
    "        self.age = age\n",
    "    def __str__(self):\n",
    "        return f'Person(name={self.name!r}, age={self.age!r})'\n",
    "p1 = Person(name = 'John', age = 2)\n",
    "# p1.name = [1, 2, 3]\n",
    "# p1.age = - 4\n",
    "print(p1)\n",
    "p1.nmae = -3\n",
    "print(p1)"
   ]
  },
  {
   "cell_type": "markdown",
   "id": "f8a0f025",
   "metadata": {},
   "source": [
    "# Getter and Setter Approach"
   ]
  },
  {
   "cell_type": "code",
   "execution_count": 1,
   "id": "32c13af3",
   "metadata": {},
   "outputs": [
    {
     "name": "stdout",
     "output_type": "stream",
     "text": [
      "Person(name='John', age=2)\n"
     ]
    }
   ],
   "source": [
    "class Person:\n",
    "    def __init__(self, name, age):\n",
    "        # self.set_name(name)\n",
    "        # self.set_age(age)\n",
    "        if not isinstance(name, str) or name == '':\n",
    "            raise ValueError(\"name can not be {name!r}\")\n",
    "        self.__name = name\n",
    "        if not isinstance(age, int) or age < 0:\n",
    "            raise ValueError(f\"age can not be {age!r}\")\n",
    "        self.__age = age\n",
    "    def get_age(self):\n",
    "        return self.__age\n",
    "    def set_age(self, age):\n",
    "        if not isinstance(age, int) or age < 0:\n",
    "            raise ValueError(f\"age can not be {age!r}\")\n",
    "        self.__age = age\n",
    "    def get_name(self):\n",
    "        return self.__name      \n",
    "    def __str__(self):\n",
    "        return f'Person(name={self.__name!r}, age={self.__age!r})'\n",
    "p1 = Person(name = 'John', age = 2)\n",
    "print(p1)"
   ]
  },
  {
   "cell_type": "markdown",
   "id": "2db075a1",
   "metadata": {},
   "source": [
    "# Pythonic approach"
   ]
  },
  {
   "cell_type": "code",
   "execution_count": 6,
   "id": "8711bee3",
   "metadata": {},
   "outputs": [
    {
     "name": "stdout",
     "output_type": "stream",
     "text": [
      "Person(name='John', age=2)\n"
     ]
    },
    {
     "data": {
      "text/plain": [
       "'John'"
      ]
     },
     "execution_count": 6,
     "metadata": {},
     "output_type": "execute_result"
    }
   ],
   "source": [
    "class Person:\n",
    "    def __init__(self, name, age):\n",
    "        self.__name = name\n",
    "        self.__age = age\n",
    "    @property\n",
    "    def name(self):\n",
    "        return self.__name\n",
    "    @name.setter\n",
    "    def name(self, value):\n",
    "        if not isinstance(value, str) or value == '':\n",
    "            raise ValueError(f\"name can not be {value!r}\")\n",
    "        self.__name = value\n",
    "    @property\n",
    "    def age(self):\n",
    "        return self.__age\n",
    "    @age.setter\n",
    "    def age(self, age):\n",
    "        if not isinstance(age, int) or age < 0:\n",
    "            raise ValueError(f\"age can not be {age!r}\")\n",
    "        self.__age = age\n",
    "    def __str__(self):\n",
    "        return f'Person(name={self.__name!r}, age={self.__age!r})'  \n",
    "p1 = Person(name = 'John', age = 2)\n",
    "print(p1)\n",
    "p1.name\n"
   ]
  },
  {
   "cell_type": "code",
   "execution_count": 8,
   "id": "f8e29a92",
   "metadata": {},
   "outputs": [
    {
     "name": "stdout",
     "output_type": "stream",
     "text": [
      "calling setter\n",
      "calling getter\n",
      "John\n"
     ]
    }
   ],
   "source": [
    "class Person:\n",
    "    def __init__(self, name, age):\n",
    "        self.name = name\n",
    "        self.age = age\n",
    "    @property\n",
    "    def name(self):\n",
    "        print('calling getter')\n",
    "        return self.__name\n",
    "    @name.setter\n",
    "    def name(self, value):\n",
    "        print('calling setter')\n",
    "        if not isinstance(value, str) or value == '':\n",
    "            raise ValueError(f\"name can not be {value!r}\")\n",
    "        self.__name = value\n",
    "    @property\n",
    "    def age(self):\n",
    "        return self.__age\n",
    "    @age.setter\n",
    "    def age(self, age):\n",
    "        if not isinstance(age, int) or age < 0:\n",
    "            raise ValueError(f\"age can not be {age!r}\")\n",
    "        self.__age = age\n",
    "    def __str__(self):\n",
    "        return f'Person(name={self.__name!r}, age={self.__age!r})'\n",
    "p1 = Person(name = 'John', age = 2)\n",
    "# print(p1)\n",
    "# p1.name = 5\n",
    "print(p1.name)"
   ]
  },
  {
   "cell_type": "code",
   "execution_count": 9,
   "id": "900643c3",
   "metadata": {},
   "outputs": [
    {
     "name": "stdout",
     "output_type": "stream",
     "text": [
      "calling setter\n",
      "calling getter\n",
      "John\n",
      "Person(name=-5, age=2)\n"
     ]
    }
   ],
   "source": [
    "class Person:\n",
    "    def __init__(self, name, age):\n",
    "        self.name = name\n",
    "        self.age = age\n",
    "    @property\n",
    "    def name(self):\n",
    "        print('calling getter')\n",
    "        return self.__name\n",
    "    @name.setter\n",
    "    def name(self, value):\n",
    "        print('calling setter')\n",
    "        if not isinstance(value, str) or value == '':\n",
    "            raise ValueError(f\"name can not be {value!r}\")\n",
    "        self.__name = value\n",
    "    @property\n",
    "    def age(self):\n",
    "        return self.__age\n",
    "    @age.setter\n",
    "    def age(self, age):\n",
    "        if not isinstance(age, int) or age < 0:\n",
    "            raise ValueError(f\"age can not be {age!r}\")\n",
    "        self.__age = age\n",
    "    def __str__(self):\n",
    "        return f'Person(name={self.__name!r}, age={self.__age!r})'\n",
    "p1 = Person(name = 'John', age = 2)\n",
    "# print(p1)\n",
    "# p1.name = 5\n",
    "print(p1.name)\n",
    "p1._Person__name = -5\n",
    "print(p1)"
   ]
  },
  {
   "cell_type": "code",
   "execution_count": null,
   "id": "0bfebdb4",
   "metadata": {},
   "outputs": [],
   "source": [
    "from urllib.request import urlopen\n",
    "class WepPage:\n",
    "    def __init__(self, url):\n",
    "        self.url = url\n",
    "        self.__content = None\n",
    "    @property\n",
    "    def content(self):\n",
    "        if not self.__content:\n",
    "            print('Retrieving New Page...')\n",
    "            self.__content = urlopen(self.url).read()\n",
    "        return self.__content"
   ]
  },
  {
   "cell_type": "code",
   "execution_count": null,
   "id": "d7347b79",
   "metadata": {},
   "outputs": [],
   "source": [
    "from urllib.request import urlopen\n",
    "class WepPage:\n",
    "    def __init__(self, url):\n",
    "        self.url = url\n",
    "        self.__content = None\n",
    "    # @property\n",
    "    def content(self):\n",
    "        # if not self.__content:\n",
    "        #     print('Retrieving New Page...')\n",
    "            return urlopen(self.url).read()\n",
    "        # return self.__content"
   ]
  },
  {
   "cell_type": "code",
   "execution_count": 12,
   "id": "a553d8a4",
   "metadata": {},
   "outputs": [],
   "source": [
    "webpage = WepPage('https://example.com/')\n",
    "content1 = webpage.content"
   ]
  },
  {
   "cell_type": "code",
   "execution_count": 13,
   "id": "2d7c5695",
   "metadata": {},
   "outputs": [
    {
     "data": {
      "text/plain": [
       "b'<!doctype html>\\n<html>\\n<head>\\n    <title>Example Domain</title>\\n\\n    <meta charset=\"utf-8\" />\\n    <meta http-equiv=\"Content-type\" content=\"text/html; charset=utf-8\" />\\n    <meta name=\"viewport\" content=\"width=device-width, initial-scale=1\" />\\n    <style type=\"text/css\">\\n    body {\\n        background-color: #f0f0f2;\\n        margin: 0;\\n        padding: 0;\\n        font-family: -apple-system, system-ui, BlinkMacSystemFont, \"Segoe UI\", \"Open Sans\", \"Helvetica Neue\", Helvetica, Arial, sans-serif;\\n        \\n    }\\n    div {\\n        width: 600px;\\n        margin: 5em auto;\\n        padding: 2em;\\n        background-color: #fdfdff;\\n        border-radius: 0.5em;\\n        box-shadow: 2px 3px 7px 2px rgba(0,0,0,0.02);\\n    }\\n    a:link, a:visited {\\n        color: #38488f;\\n        text-decoration: none;\\n    }\\n    @media (max-width: 700px) {\\n        div {\\n            margin: 0 auto;\\n            width: auto;\\n        }\\n    }\\n    </style>    \\n</head>\\n\\n<body>\\n<div>\\n    <h1>Example Domain</h1>\\n    <p>This domain is for use in illustrative examples in documents. You may use this\\n    domain in literature without prior coordination or asking for permission.</p>\\n    <p><a href=\"https://www.iana.org/domains/example\">More information...</a></p>\\n</div>\\n</body>\\n</html>\\n'"
      ]
     },
     "execution_count": 13,
     "metadata": {},
     "output_type": "execute_result"
    }
   ],
   "source": [
    "content1"
   ]
  },
  {
   "cell_type": "code",
   "execution_count": 14,
   "id": "8cb0f32a",
   "metadata": {},
   "outputs": [
    {
     "name": "stdout",
     "output_type": "stream",
     "text": [
      "<!doctype html>\n",
      "<html>\n",
      "<head>\n",
      "    <title>Example Domain</title>\n",
      "\n",
      "    <meta charset=\"utf-8\" />\n",
      "    <meta http-equiv=\"Content-type\" content=\"text/html; charset=utf-8\" />\n",
      "    <meta name=\"viewport\" content=\"width=device-width, initial-scale=1\" />\n",
      "    <style type=\"text/css\">\n",
      "    body {\n",
      "        background-color: #f0f0f2;\n",
      "        margin: 0;\n",
      "        padding: 0;\n",
      "        font-family: -apple-system, system-ui, BlinkMacSystemFont, \"Segoe UI\", \"Open Sans\", \"Helvetica Neue\", Helvetica, Arial, sans-serif;\n",
      "        \n",
      "    }\n",
      "    div {\n",
      "        width: 600px;\n",
      "        margin: 5em auto;\n",
      "        padding: 2em;\n",
      "        background-color: #fdfdff;\n",
      "        border-radius: 0.5em;\n",
      "        box-shadow: 2px 3px 7px 2px rgba(0,0,0,0.02);\n",
      "    }\n",
      "    a:link, a:visited {\n",
      "        color: #38488f;\n",
      "        text-decoration: none;\n",
      "    }\n",
      "    @media (max-width: 700px) {\n",
      "        div {\n",
      "            margin: 0 auto;\n",
      "            width: auto;\n",
      "        }\n",
      "    }\n",
      "    </style>    \n",
      "</head>\n",
      "\n",
      "<body>\n",
      "<div>\n",
      "    <h1>Example Domain</h1>\n",
      "    <p>This domain is for use in illustrative examples in documents. You may use this\n",
      "    domain in literature without prior coordination or asking for permission.</p>\n",
      "    <p><a href=\"https://www.iana.org/domains/example\">More information...</a></p>\n",
      "</div>\n",
      "</body>\n",
      "</html>\n",
      "\n"
     ]
    }
   ],
   "source": [
    "print(content1.decode('utf-8'))"
   ]
  },
  {
   "cell_type": "code",
   "execution_count": null,
   "id": "9b8a77c4",
   "metadata": {},
   "outputs": [],
   "source": [
    "content2 = webpage.content()"
   ]
  },
  {
   "cell_type": "code",
   "execution_count": 18,
   "id": "84d6d49a",
   "metadata": {},
   "outputs": [],
   "source": [
    "from urllib.request import urlopen\n",
    "class WepPage:\n",
    "    def __init__(self, url):\n",
    "        self.url = url\n",
    "        self.__content = None\n",
    "    @property\n",
    "    def content(self):\n",
    "        if not self.__content:\n",
    "            print('Retrieving New Page...')\n",
    "            self.__content = urlopen(self.url).read()\n",
    "        return self.__content"
   ]
  },
  {
   "cell_type": "code",
   "execution_count": 19,
   "id": "4430fa67",
   "metadata": {},
   "outputs": [
    {
     "name": "stdout",
     "output_type": "stream",
     "text": [
      "Retrieving New Page...\n"
     ]
    }
   ],
   "source": [
    "webpage = WepPage('https://example.com/')\n",
    "content1 = webpage.content"
   ]
  },
  {
   "cell_type": "code",
   "execution_count": 20,
   "id": "f9bbcdeb",
   "metadata": {},
   "outputs": [
    {
     "data": {
      "text/plain": [
       "b'<!doctype html>\\n<html>\\n<head>\\n    <title>Example Domain</title>\\n\\n    <meta charset=\"utf-8\" />\\n    <meta http-equiv=\"Content-type\" content=\"text/html; charset=utf-8\" />\\n    <meta name=\"viewport\" content=\"width=device-width, initial-scale=1\" />\\n    <style type=\"text/css\">\\n    body {\\n        background-color: #f0f0f2;\\n        margin: 0;\\n        padding: 0;\\n        font-family: -apple-system, system-ui, BlinkMacSystemFont, \"Segoe UI\", \"Open Sans\", \"Helvetica Neue\", Helvetica, Arial, sans-serif;\\n        \\n    }\\n    div {\\n        width: 600px;\\n        margin: 5em auto;\\n        padding: 2em;\\n        background-color: #fdfdff;\\n        border-radius: 0.5em;\\n        box-shadow: 2px 3px 7px 2px rgba(0,0,0,0.02);\\n    }\\n    a:link, a:visited {\\n        color: #38488f;\\n        text-decoration: none;\\n    }\\n    @media (max-width: 700px) {\\n        div {\\n            margin: 0 auto;\\n            width: auto;\\n        }\\n    }\\n    </style>    \\n</head>\\n\\n<body>\\n<div>\\n    <h1>Example Domain</h1>\\n    <p>This domain is for use in illustrative examples in documents. You may use this\\n    domain in literature without prior coordination or asking for permission.</p>\\n    <p><a href=\"https://www.iana.org/domains/example\">More information...</a></p>\\n</div>\\n</body>\\n</html>\\n'"
      ]
     },
     "execution_count": 20,
     "metadata": {},
     "output_type": "execute_result"
    }
   ],
   "source": [
    "content1"
   ]
  },
  {
   "cell_type": "code",
   "execution_count": 21,
   "id": "2c810ff7",
   "metadata": {},
   "outputs": [
    {
     "name": "stdout",
     "output_type": "stream",
     "text": [
      "<!doctype html>\n",
      "<html>\n",
      "<head>\n",
      "    <title>Example Domain</title>\n",
      "\n",
      "    <meta charset=\"utf-8\" />\n",
      "    <meta http-equiv=\"Content-type\" content=\"text/html; charset=utf-8\" />\n",
      "    <meta name=\"viewport\" content=\"width=device-width, initial-scale=1\" />\n",
      "    <style type=\"text/css\">\n",
      "    body {\n",
      "        background-color: #f0f0f2;\n",
      "        margin: 0;\n",
      "        padding: 0;\n",
      "        font-family: -apple-system, system-ui, BlinkMacSystemFont, \"Segoe UI\", \"Open Sans\", \"Helvetica Neue\", Helvetica, Arial, sans-serif;\n",
      "        \n",
      "    }\n",
      "    div {\n",
      "        width: 600px;\n",
      "        margin: 5em auto;\n",
      "        padding: 2em;\n",
      "        background-color: #fdfdff;\n",
      "        border-radius: 0.5em;\n",
      "        box-shadow: 2px 3px 7px 2px rgba(0,0,0,0.02);\n",
      "    }\n",
      "    a:link, a:visited {\n",
      "        color: #38488f;\n",
      "        text-decoration: none;\n",
      "    }\n",
      "    @media (max-width: 700px) {\n",
      "        div {\n",
      "            margin: 0 auto;\n",
      "            width: auto;\n",
      "        }\n",
      "    }\n",
      "    </style>    \n",
      "</head>\n",
      "\n",
      "<body>\n",
      "<div>\n",
      "    <h1>Example Domain</h1>\n",
      "    <p>This domain is for use in illustrative examples in documents. You may use this\n",
      "    domain in literature without prior coordination or asking for permission.</p>\n",
      "    <p><a href=\"https://www.iana.org/domains/example\">More information...</a></p>\n",
      "</div>\n",
      "</body>\n",
      "</html>\n",
      "\n"
     ]
    }
   ],
   "source": [
    "print(content1.decode('utf-8'))"
   ]
  },
  {
   "cell_type": "code",
   "execution_count": 2,
   "id": "6a2a7e00",
   "metadata": {},
   "outputs": [
    {
     "data": {
      "text/plain": [
       "2.5"
      ]
     },
     "execution_count": 2,
     "metadata": {},
     "output_type": "execute_result"
    }
   ],
   "source": [
    "class AverangeList(list):\n",
    "    @property\n",
    "    def average(self):\n",
    "        return sum(self) / len(self)\n",
    "a = AverangeList([1, 2, 3, 4])\n",
    "a.average"
   ]
  },
  {
   "cell_type": "markdown",
   "id": "9dc5d7dd",
   "metadata": {},
   "source": [
    "# classmethod, staticmethod"
   ]
  },
  {
   "cell_type": "code",
   "execution_count": 9,
   "id": "a92eebc6",
   "metadata": {},
   "outputs": [
    {
     "name": "stdout",
     "output_type": "stream",
     "text": [
      "<__main__.Demo object at 0x0000027C7881DE80>\n",
      "calling regular method\n",
      "calling static method\n"
     ]
    }
   ],
   "source": [
    "class Demo:\n",
    "    def regular(self):\n",
    "        print(self)\n",
    "        print(\"calling regular method\")\n",
    "    @staticmethod\n",
    "    def static():\n",
    "        print(\"calling static method\")\n",
    "a = Demo()\n",
    "a.regular()\n",
    "a.static()"
   ]
  },
  {
   "cell_type": "code",
   "execution_count": null,
   "id": "9a4aa685",
   "metadata": {},
   "outputs": [],
   "source": [
    "class Demo:\n",
    "    def regular(self):\n",
    "        print(self)\n",
    "        print(\"calling regular method\")\n",
    "    @staticmethod\n",
    "    def static():\n",
    "        print(\"calling static method\")\n",
    "a = Demo()\n",
    "# a.regular()\n",
    "a.static()"
   ]
  },
  {
   "cell_type": "code",
   "execution_count": 11,
   "id": "8bf3a549",
   "metadata": {},
   "outputs": [
    {
     "name": "stdout",
     "output_type": "stream",
     "text": [
      "<class '__main__.Demo'>\n",
      "calling classmethod\n"
     ]
    }
   ],
   "source": [
    "class Demo:\n",
    "    def regular(self):\n",
    "        print(self)\n",
    "        print(\"calling regular method\")\n",
    "    @staticmethod\n",
    "    def static():\n",
    "        print(\"calling static method\")\n",
    "    @classmethod\n",
    "    def classm(self):\n",
    "        print(self)\n",
    "        print(\"calling classmethod\")\n",
    "a = Demo()\n",
    "# a.regular()\n",
    "# a.static()\n",
    "a.classm()"
   ]
  },
  {
   "cell_type": "code",
   "execution_count": 1,
   "id": "856cfffc",
   "metadata": {},
   "outputs": [
    {
     "name": "stdout",
     "output_type": "stream",
     "text": [
      "<class '__main__.Demo'>\n",
      "calling classmethod\n"
     ]
    }
   ],
   "source": [
    "class Demo:\n",
    "    def regular(self):\n",
    "        print(self)\n",
    "        print(\"calling regular method\")\n",
    "    @staticmethod\n",
    "    def static():\n",
    "        print(\"calling static method\")\n",
    "    @classmethod\n",
    "    def classm(cls):\n",
    "        print(cls)\n",
    "        print(\"calling classmethod\")\n",
    "a = Demo()\n",
    "# a.regular()\n",
    "# a.static()\n",
    "a.classm()"
   ]
  },
  {
   "cell_type": "code",
   "execution_count": 4,
   "id": "66c096b1",
   "metadata": {},
   "outputs": [
    {
     "name": "stdout",
     "output_type": "stream",
     "text": [
      "True\n",
      "False\n"
     ]
    }
   ],
   "source": [
    "# staticmethod\n",
    "class BankAccount:\n",
    "\n",
    "    def __init__(self, account_number, balance=0):\n",
    "        if not self.validate_account_number(account_number):\n",
    "            raise ValueError(\"Invalid account number\")\n",
    "        self.account_number = account_number    \n",
    "        self.balance = balance\n",
    "\n",
    "    def deposit(self, amount):\n",
    "        if amount <= 0:\n",
    "            raise ValueError(\"Deposit amount must be positive\")\n",
    "        self.balance += amount\n",
    "        print(f\"${amount} deposited. New balance: ${self.balance}\")\n",
    "\n",
    "    def withdraw(self, amount):\n",
    "        if amount > self.balance:\n",
    "            raise ValueError(\"Insufficient funds\")\n",
    "        self.balance -= amount  \n",
    "        print(f\"${amount} withdrawn. Remaining balance: ${self.balance}\")\n",
    "\n",
    "    @staticmethod\n",
    "    def validate_account_number(account_number):\n",
    "        \"\"\"Validates that an account number is exactly 10 digits.\"\"\"\n",
    "        return isinstance(account_number, str) and account_number.isdigit() and len(account_number) == 10\n",
    "account = BankAccount(\"1234567890\", 500)\n",
    "print(BankAccount.validate_account_number(\"1234567890\"))\n",
    "print(BankAccount.validate_account_number(\"12345\"))"
   ]
  },
  {
   "cell_type": "code",
   "execution_count": 5,
   "id": "3f7993de",
   "metadata": {},
   "outputs": [
    {
     "name": "stdout",
     "output_type": "stream",
     "text": [
      "Vector(x=1, y=2)\n"
     ]
    }
   ],
   "source": [
    "# classmethod\n",
    "class Vector:\n",
    "    def __init__(self, x: float, y: float):\n",
    "        self.x = x\n",
    "        self.y = y\n",
    "    def __str__(self):\n",
    "        return f\"Vector(x={self.x}, y={self.y})\" \n",
    "    @classmethod\n",
    "    def from_tuple(cls, coords: tuple[float, float]):\n",
    "        x, y = coords\n",
    "        return cls(x, y)\n",
    "v1 = Vector(x=1, y=2)\n",
    "print(v1)"
   ]
  },
  {
   "cell_type": "code",
   "execution_count": 7,
   "id": "e7c2e7d3",
   "metadata": {},
   "outputs": [
    {
     "name": "stdout",
     "output_type": "stream",
     "text": [
      "Vector(x=3, y=4)\n"
     ]
    }
   ],
   "source": [
    "v2 = Vector.from_tuple(coords=(3, 4))\n",
    "print(v2)"
   ]
  },
  {
   "cell_type": "code",
   "execution_count": 8,
   "id": "f15d7214",
   "metadata": {},
   "outputs": [
    {
     "name": "stdout",
     "output_type": "stream",
     "text": [
      "Vector(x=3, y=4)\n"
     ]
    }
   ],
   "source": [
    "t = (3, 4)\n",
    "v2 = Vector(x=t[0], y=t[1])\n",
    "# v2 = Vector.from_tuple(coords=(3, 4))\n",
    "print(v2)"
   ]
  },
  {
   "cell_type": "code",
   "execution_count": null,
   "id": "652b5eeb",
   "metadata": {},
   "outputs": [],
   "source": [
    "import test\n",
    "import math\n"
   ]
  }
 ],
 "metadata": {
  "kernelspec": {
   "display_name": "Python 3",
   "language": "python",
   "name": "python3"
  },
  "language_info": {
   "codemirror_mode": {
    "name": "ipython",
    "version": 3
   },
   "file_extension": ".py",
   "mimetype": "text/x-python",
   "name": "python",
   "nbconvert_exporter": "python",
   "pygments_lexer": "ipython3",
   "version": "3.12.9"
  }
 },
 "nbformat": 4,
 "nbformat_minor": 5
}
