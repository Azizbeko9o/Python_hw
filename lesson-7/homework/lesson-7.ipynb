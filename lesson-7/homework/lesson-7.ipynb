{
 "cells": [
  {
   "cell_type": "code",
   "execution_count": null,
   "id": "4baa8452",
   "metadata": {},
   "outputs": [],
   "source": [
    "with open('sample.txt') as f:\n",
    "    txt = f.read()\n",
    "cleaned_data = txt.lower().replace(\"-\"'').replace('\\n', ' ').split()\n",
    "print(cleaned_data)"
   ]
  },
  {
   "cell_type": "markdown",
   "id": "5047736a",
   "metadata": {},
   "source": [
    "# Classes\n",
    "* Class creation\n",
    "* self - what it means\n",
    "* Public and private methods / attributes\n",
    "* Dunder methods\n",
    "* Inheritance\n",
    "\n",
    "| Write an application to define points in 2D space, calculate thier distance their distance and check the point is inside a circle"
   ]
  },
  {
   "cell_type": "code",
   "execution_count": null,
   "id": "4a6a4d6a",
   "metadata": {},
   "outputs": [],
   "source": [
    "# import math\n",
    "# # Points\n",
    "# point1 = (3, 4)\n",
    "# point2 = (16, 8)\n",
    "\n",
    "# # Circle\n",
    "# circle_center = (5, 5)\n",
    "# circle_radius = 9\n",
    "\n",
    "# def distance(p1, p2):\n",
    "#     \"\"\"Calculate the Euclidean distance between two points.\"\"\"\n",
    "#     return math.sqrt((p1[0] - p2[0])**2 (p1[1] - p2[1])**2)\n",
    "# def is_inside_circle(center, radius, point):\n",
    "#     \"\"\"Check if a point lies within a circle.\"\"\"\n",
    "#     return distance(center, point) <= radius\n",
    "# print(\"Point1:\", point1)\n",
    "# print(\"Point2:\", point2)\n",
    "# print(\"Distance between Point1 and Point2:\", distance(point1, point2))\n",
    "# print(\"Is Point1 inside the circle?\", is_inside_circle(circle_center, circle_radius, point1))\n",
    "# print(\"Is Point2 inside the circle?\", is_inside_circle(circle_center, circle_radius, point2))\n"
   ]
  },
  {
   "cell_type": "code",
   "execution_count": null,
   "id": "3f678bb1",
   "metadata": {},
   "outputs": [
    {
     "data": {
      "text/plain": [
       "'HELLO'"
      ]
     },
     "execution_count": 3,
     "metadata": {},
     "output_type": "execute_result"
    }
   ],
   "source": [
    "a = 'hello'\n",
    "a.upper() #behaviour"
   ]
  },
  {
   "cell_type": "markdown",
   "id": "6ceeb454",
   "metadata": {},
   "source": [
    "# Defining classes"
   ]
  },
  {
   "cell_type": "code",
   "execution_count": 4,
   "id": "57657dfa",
   "metadata": {},
   "outputs": [
    {
     "data": {
      "text/plain": [
       "__main__.Point"
      ]
     },
     "execution_count": 4,
     "metadata": {},
     "output_type": "execute_result"
    }
   ],
   "source": [
    "class Point:\n",
    "    pass\n",
    "a = Point()\n",
    "type(a)"
   ]
  },
  {
   "cell_type": "code",
   "execution_count": null,
   "id": "220d7848",
   "metadata": {},
   "outputs": [],
   "source": [
    "class Point:\n",
    "    pass\n",
    "a = Point()\n",
    "a.x = 5\n",
    "a.y = 6"
   ]
  },
  {
   "cell_type": "code",
   "execution_count": null,
   "id": "1d1b1438",
   "metadata": {},
   "outputs": [],
   "source": [
    "print(a.x)"
   ]
  },
  {
   "cell_type": "code",
   "execution_count": null,
   "id": "f3ad8d1c",
   "metadata": {},
   "outputs": [],
   "source": [
    "print(a.y)"
   ]
  },
  {
   "cell_type": "code",
   "execution_count": null,
   "id": "c54d4259",
   "metadata": {},
   "outputs": [],
   "source": [
    "import math"
   ]
  },
  {
   "cell_type": "code",
   "execution_count": null,
   "id": "7d5132bf",
   "metadata": {},
   "outputs": [
    {
     "data": {
      "text/plain": [
       "3.1622776601683795"
      ]
     },
     "execution_count": 11,
     "metadata": {},
     "output_type": "execute_result"
    }
   ],
   "source": [
    "class Point:\n",
    "    pass\n",
    "a = Point()\n",
    "a.x = 5\n",
    "a.y = 6\n",
    "\n",
    "b = Point()\n",
    "b.x = 2\n",
    "b.y = 7\n",
    "\n",
    "def distance(p1: float, p2: float):\n",
    "    \"\"\"Calculate the Euclidean distance between two points.\"\"\"\n",
    "    return math.sqrt((p1.x - p2.x)**2 + (p1.y - p2.y)**2)\n",
    "distance(a, b)"
   ]
  },
  {
   "cell_type": "code",
   "execution_count": null,
   "id": "111e8b40",
   "metadata": {},
   "outputs": [
    {
     "name": "stdout",
     "output_type": "stream",
     "text": [
      "executed\n"
     ]
    }
   ],
   "source": [
    "class Point:\n",
    "    def __init__(self):\n",
    "        print('executed')\n",
    "a = Point()"
   ]
  },
  {
   "cell_type": "code",
   "execution_count": null,
   "id": "c4a827cf",
   "metadata": {},
   "outputs": [
    {
     "name": "stdout",
     "output_type": "stream",
     "text": [
      "6\n"
     ]
    }
   ],
   "source": [
    "class Point:\n",
    "    def __init__(self, birinchi, ikkinchi):\n",
    "        self.r = birinchi\n",
    "        self.y = ikkinchi\n",
    "a = Point(2, 4)\n",
    "a.x = 6\n",
    "print(a.x)"
   ]
  },
  {
   "cell_type": "code",
   "execution_count": 23,
   "id": "5c8369a5",
   "metadata": {},
   "outputs": [
    {
     "name": "stdout",
     "output_type": "stream",
     "text": [
      "2\n"
     ]
    }
   ],
   "source": [
    "class Point:\n",
    "    def __init__(self, x, y):\n",
    "        self.x = x\n",
    "        self.y = y\n",
    "a = Point(x=2, y=4)\n",
    "print(a.x)"
   ]
  },
  {
   "cell_type": "code",
   "execution_count": null,
   "id": "98ab2377",
   "metadata": {},
   "outputs": [
    {
     "name": "stdout",
     "output_type": "stream",
     "text": [
      "__init__ executed\n"
     ]
    }
   ],
   "source": [
    "class Point:\n",
    "    def __init__(self):\n",
    "        print('__init__ executed')\n",
    "    def init(self):\n",
    "        print('init executed')\n",
    "a = Point()"
   ]
  },
  {
   "cell_type": "code",
   "execution_count": null,
   "id": "b069d9e6",
   "metadata": {},
   "outputs": [],
   "source": [
    "class Point:\n",
    "    def __init__(self, x, y):\n",
    "        self.x = x\n",
    "        self.y = y\n",
    "a = Point(5, 6)\n",
    "b = Point(2, 7)"
   ]
  },
  {
   "cell_type": "code",
   "execution_count": 32,
   "id": "13984071",
   "metadata": {},
   "outputs": [
    {
     "name": "stdout",
     "output_type": "stream",
     "text": [
      "2164371628992\n",
      "2164371166880\n"
     ]
    }
   ],
   "source": [
    "class Point:\n",
    "    def __init__(self, x, y):\n",
    "        self.x = x\n",
    "        self.y = y\n",
    "a = Point(5, 6)\n",
    "b = Point(5, 6)\n",
    "print(id(a))\n",
    "print(id(b))"
   ]
  },
  {
   "cell_type": "code",
   "execution_count": 31,
   "id": "a8efad39",
   "metadata": {},
   "outputs": [
    {
     "name": "stdout",
     "output_type": "stream",
     "text": [
      "ID self = 2164371166880\n",
      "ID self = 2164371171872\n",
      "ID a =  2164371166880\n",
      "ID b =  2164371171872\n"
     ]
    }
   ],
   "source": [
    "class Point:\n",
    "    def __init__(self, x, y):\n",
    "        print(\"ID self =\", id(self))\n",
    "        self.x = x\n",
    "        self.y = y\n",
    "a = Point(5, 6)\n",
    "b = Point(5, 6)\n",
    "print(\"ID a = \",id(a))\n",
    "print(\"ID b = \",id(b))"
   ]
  },
  {
   "cell_type": "code",
   "execution_count": 1,
   "id": "991739b3",
   "metadata": {},
   "outputs": [
    {
     "name": "stdout",
     "output_type": "stream",
     "text": [
      "ID self = 2222007688448\n",
      "ID a =  2222007688448\n"
     ]
    }
   ],
   "source": [
    "class Point:\n",
    "    def __init__(self, x, y):\n",
    "        print(\"ID self =\", id(self))\n",
    "        self.x = x\n",
    "        self.y = y\n",
    "a = Point(5, 6)\n",
    "print(\"ID a = \",id(a))"
   ]
  },
  {
   "cell_type": "code",
   "execution_count": null,
   "id": "5a566966",
   "metadata": {},
   "outputs": [],
   "source": [
    "class Point:\n",
    "    pass\n",
    "a = Point(5, 6)\n",
    "print(\"ID a =\", id(a))"
   ]
  },
  {
   "cell_type": "code",
   "execution_count": 5,
   "id": "8b186246",
   "metadata": {},
   "outputs": [
    {
     "name": "stdout",
     "output_type": "stream",
     "text": [
      "hello\n"
     ]
    }
   ],
   "source": [
    "class Point:\n",
    "    def __init__(self, x, y):\n",
    "        self.x = x\n",
    "        self.y = y\n",
    "    def test(self):\n",
    "        print('hello')\n",
    "a = Point(5, 6)\n",
    "a.test()"
   ]
  },
  {
   "cell_type": "code",
   "execution_count": null,
   "id": "85cf2876",
   "metadata": {},
   "outputs": [
    {
     "data": {
      "text/plain": [
       "20"
      ]
     },
     "execution_count": 6,
     "metadata": {},
     "output_type": "execute_result"
    }
   ],
   "source": [
    "class Point:\n",
    "    def __init__(self, x, y):\n",
    "        self.x = x\n",
    "        self.y = y\n",
    "    def add_5_to_x(self):\n",
    "        return self.x + 5\n",
    "a = Point(15, 6)\n",
    "a.add_5_to_x()"
   ]
  },
  {
   "cell_type": "code",
   "execution_count": null,
   "id": "655a1825",
   "metadata": {},
   "outputs": [],
   "source": [
    "# class Point1:\n",
    "#     def __init__(self, x, y):\n",
    "#         self.x = x\n",
    "#         self.y = y\n",
    "#     def distance(self, p2: Point1):\n",
    "#         \"\"\"Calculate the Euclidean distance between two points.\"\"\"\n",
    "#         return math.sqrt((self.x - p2.x)**2 + (self.y - p2.y)**2)\n",
    "# a = Point1(15, 6)\n",
    "# b = Point1(5, 6)\n",
    "# a.distance(b)\n"
   ]
  },
  {
   "cell_type": "code",
   "execution_count": 28,
   "id": "9376036f",
   "metadata": {},
   "outputs": [
    {
     "name": "stdout",
     "output_type": "stream",
     "text": [
      "2164375902592\n",
      "2164376600704\n"
     ]
    }
   ],
   "source": [
    "x = [1, 2]\n",
    "y = [1, 2]\n",
    "print(id(x))\n",
    "print(id(y))"
   ]
  },
  {
   "cell_type": "code",
   "execution_count": null,
   "id": "2370501b",
   "metadata": {},
   "outputs": [],
   "source": [
    "# class Point:\n",
    "#     def __init__(self):\n",
    "\n",
    "# a = Point()\n",
    "# a.x = 5\n",
    "# a.y = 6\n",
    "\n",
    "# b = Point()\n",
    "# b.x = 2\n",
    "# b.y = 7\n",
    "\n",
    "# def distance(p1: float, p2: float):\n",
    "#     \"\"\"Calculate the Euclidean distance between two points.\"\"\"\n",
    "#     return math.sqrt((p1.x - p2.x)**2 + (p1.y - p2.y)**2)\n",
    "# distance(a, b)"
   ]
  },
  {
   "cell_type": "markdown",
   "id": "c03f746a",
   "metadata": {},
   "source": [
    "##### Attributes:\n",
    "* distance\n",
    "* is_inside_circle\n",
    "* move\n",
    "* reset"
   ]
  },
  {
   "cell_type": "code",
   "execution_count": null,
   "id": "be5b843b",
   "metadata": {},
   "outputs": [],
   "source": [
    "class Point:\n",
    "    x: float\n",
    "    y: float\n",
    "    def distance(self, other: Point):\n",
    "        pass\n",
    "    # def check_is_in_circle(self, c: Circle)\n",
    "    class Circle:\n",
    "        center: Point\n",
    "        r: float\n",
    "        def check_is_in_circle(self, p: Point):\n",
    "            pass"
   ]
  },
  {
   "cell_type": "markdown",
   "id": "81651b04",
   "metadata": {},
   "source": []
  },
  {
   "cell_type": "code",
   "execution_count": null,
   "id": "e03a6594",
   "metadata": {},
   "outputs": [],
   "source": [
    "import math\n",
    "class Point:\n",
    "    def __init__(self, x: float, y: float):\n",
    "        self.x = x\n",
    "        self.y = y\n",
    "    def distance_to(self, other_point: Point):\n",
    "        \"\"\"Calculate the Euclidean distance to another point.\"\"\"\n",
    "        return math.sqrt((self.x - other_point.x)**2 +(self.y - other_point.y)**2)\n",
    "class Circle:\n",
    "    def __init__(self, center: Point, radius):\n",
    "        self.center = center\n",
    "        self.radius = radius\n",
    "    def contains(self, point):\n",
    "        \"\"\"Check if the point lies inside the circle.\"\"\"\n",
    "        return self.center.distance_to(point) <= self.radius\n",
    "point1 = Point(3, 4)\n",
    "point2 = Point(6, 8)\n",
    "circle = Circle(Point(5, 5), 5)"
   ]
  },
  {
   "cell_type": "code",
   "execution_count": null,
   "id": "5e758e93",
   "metadata": {},
   "outputs": [],
   "source": [
    "class BankAccount:\n",
    "    def __init__(self, account_number, owner, balance=0):\n",
    "        self.account_number = account_number\n",
    "        self.owner = owner\n",
    "        self.balance = balance\n",
    "    def deposit(self, amount):\n",
    "        \"\"\"With ,omey from the if sufficient balance is available.\"\"\"\n",
    "        if self.balance >= amount:\n",
    "            self.balance -= amount\n",
    "            return True\n",
    "        return False\n",
    "    def get_balance(self):\n",
    "        \"\"\"Returns the current balance of the account.\"\"\"\n",
    "        return self.balance\n",
    "alice_account = BankAccount(\"12345\", \"Alice\", 100)\n",
    "bob_account = BankAccount(\"67890\", \"Bob\", 50)\n",
    "print(\"Initial balance for Alice:\", alice_account.get_balance())\n",
    "alice_account.deposit(50)\n",
    "print(\"Balance after deposit for Alice:\", alice_account.get_balance())\n",
    "alice_account.withdraw(120)\n",
    "print(\"Balance after withdrawal for Alice:\", alice_account.get_balance())"
   ]
  },
  {
   "cell_type": "code",
   "execution_count": 10,
   "id": "31a031e8",
   "metadata": {},
   "outputs": [
    {
     "name": "stdout",
     "output_type": "stream",
     "text": [
      "Equal\n"
     ]
    }
   ],
   "source": [
    "class Vector2D:\n",
    "    def __init__(self, x, y):\n",
    "        self.x = x\n",
    "        self.y = y\n",
    "v1 = Vector2D(3, 5)\n",
    "v2 = Vector2D(3, 5)\n",
    "if v1.x == v2.x and v1.y == v2.y:\n",
    "    print('Equal')\n",
    "else:\n",
    "    print('Inequal')"
   ]
  },
  {
   "cell_type": "code",
   "execution_count": 11,
   "id": "b01d1924",
   "metadata": {},
   "outputs": [
    {
     "name": "stdout",
     "output_type": "stream",
     "text": [
      "Inequal\n"
     ]
    }
   ],
   "source": [
    "class Vector2D:\n",
    "    def __init__(self, x, y):\n",
    "        self.x = x\n",
    "        self.y = y\n",
    "v1 = Vector2D(3, 5)\n",
    "v2 = Vector2D(3, 2)\n",
    "if v1.x == v2.x and v1.y == v2.y:\n",
    "    print('Equal')\n",
    "else:\n",
    "    print('Inequal')"
   ]
  },
  {
   "cell_type": "code",
   "execution_count": 19,
   "id": "2b3762cf",
   "metadata": {},
   "outputs": [
    {
     "name": "stdout",
     "output_type": "stream",
     "text": [
      "+ executed\n",
      "Vector(x=4, y=8)\n",
      "executed\n",
      "Inequal\n"
     ]
    }
   ],
   "source": [
    "class Vector2D:\n",
    "    def __init__(self, x, y):\n",
    "        self.x = x\n",
    "        self.y = y\n",
    "    def __eq__(self, other):\n",
    "        print('executed')\n",
    "        return self.x == other.x and self.y == other.y\n",
    "    def __add__(self, other):\n",
    "        print(\"+ executed\")\n",
    "        new_x = self.x + other.x \n",
    "        new_y = self.y + other.y\n",
    "        return Vector2D(new_x, new_y)\n",
    "    def __str__(self):\n",
    "        return f\"Vector(x={self.x}, y={self.y})\"\n",
    "v1 = Vector2D(3, 5)\n",
    "v2 = Vector2D(1, 3)\n",
    "v3 = v1 + v2\n",
    "print(v3)\n",
    "if v1 == v2:\n",
    "    print('Equal')\n",
    "else:\n",
    "    print('Inequal')"
   ]
  },
  {
   "cell_type": "code",
   "execution_count": 20,
   "id": "27227548",
   "metadata": {},
   "outputs": [
    {
     "name": "stdout",
     "output_type": "stream",
     "text": [
      "Vector(x=3, y=5)\n"
     ]
    }
   ],
   "source": [
    "print(v1)"
   ]
  },
  {
   "cell_type": "code",
   "execution_count": null,
   "id": "c17c5ff2",
   "metadata": {},
   "outputs": [
    {
     "name": "stdout",
     "output_type": "stream",
     "text": [
      "Vector(x=1, y=3)\n"
     ]
    }
   ],
   "source": [
    "print(v2)"
   ]
  },
  {
   "cell_type": "markdown",
   "id": "bac15980",
   "metadata": {},
   "source": [
    "# Dunder methods\n",
    "* __str__\n",
    " \n",
    "* __repr__\n",
    "\n",
    "* __eq__\n",
    "\n",
    "* __ne__\n",
    "\n",
    "* __lt__\n",
    "\n",
    "* __gt__\n",
    "\n",
    "* __le__\n",
    "\n",
    "* __ge__\n",
    "\n",
    "* __add__\n",
    "\n",
    "* __sub__\n",
    "\n",
    "* __mul__\n",
    "\n",
    "* __floordiv__\n",
    "\n",
    "* __truediv__\n",
    "\n",
    "* __mod__\n",
    "\n",
    "* __pow__\n",
    "\n",
    "* __abs__\n",
    "\n",
    "* __len__\n",
    "\n",
    "* __getitem__\n",
    "\n",
    "* __contains__\n",
    "\n",
    "* __iter__\n",
    "\n",
    "* __next__\n",
    "\n",
    "* __call__\n",
    "\n",
    "* __hash__"
   ]
  },
  {
   "cell_type": "code",
   "execution_count": 11,
   "id": "cbf0fb5f",
   "metadata": {},
   "outputs": [
    {
     "data": {
      "text/plain": [
       "9"
      ]
     },
     "execution_count": 11,
     "metadata": {},
     "output_type": "execute_result"
    }
   ],
   "source": [
    "class People:\n",
    "    def __init__(self):\n",
    "        self.people = [1, 2, 3, 4, 5]\n",
    "        self.people2 = [1, 2, 3, 4, 5, 5, 6, 7, 7]\n",
    "    def __len__(self):\n",
    "        return len(self.people2)\n",
    "p = People()\n",
    "len(p)"
   ]
  },
  {
   "cell_type": "code",
   "execution_count": 13,
   "id": "ef5af39e",
   "metadata": {},
   "outputs": [
    {
     "data": {
      "text/plain": [
       "1"
      ]
     },
     "execution_count": 13,
     "metadata": {},
     "output_type": "execute_result"
    }
   ],
   "source": [
    "class People:\n",
    "    def __init__(self):\n",
    "        self.people = [1, 2, 3, 4, 5]\n",
    "        self.people2 = [1, 2, 3, 4, 5, 5, 6, 7, 7]\n",
    "    def __len__(self):\n",
    "        return  1\n",
    "p = People()\n",
    "len(p)"
   ]
  },
  {
   "cell_type": "code",
   "execution_count": 14,
   "id": "7fd0c63c",
   "metadata": {},
   "outputs": [
    {
     "data": {
      "text/plain": [
       "9"
      ]
     },
     "execution_count": 14,
     "metadata": {},
     "output_type": "execute_result"
    }
   ],
   "source": [
    "class People:\n",
    "    def __init__(self):\n",
    "        self.people = [1, 2, 3, 4, 5]\n",
    "        self.people2 = [1, 2, 3, 4, 5, 5, 6, 7, 7]\n",
    "    def __len__(self):\n",
    "        return len(self.people2)\n",
    "    def __call__(self):\n",
    "        print(\"Object called as a function\")\n",
    "        \n",
    "p = People()\n",
    "len(p)"
   ]
  },
  {
   "cell_type": "code",
   "execution_count": 15,
   "id": "0b2f3810",
   "metadata": {},
   "outputs": [
    {
     "name": "stdout",
     "output_type": "stream",
     "text": [
      "Object called as a function\n"
     ]
    }
   ],
   "source": [
    "p()"
   ]
  },
  {
   "cell_type": "code",
   "execution_count": 18,
   "id": "6d83621d",
   "metadata": {},
   "outputs": [
    {
     "name": "stdout",
     "output_type": "stream",
     "text": [
      "+ executed\n",
      "Vector(x=4, y=8)\n",
      "Vector(x=2, y=2)\n",
      "executed\n",
      "Inequal\n"
     ]
    }
   ],
   "source": [
    "class Vector2D:\n",
    "    def __init__(self, x, y):\n",
    "        self.x = x\n",
    "        self.y = y\n",
    "    def __eq__(self, other):\n",
    "        print('executed')\n",
    "        return self.x == other.x and self.y == other.y\n",
    "    def __add__(self, other):\n",
    "        print(\"+ executed\")\n",
    "        new_x = self.x + other.x \n",
    "        new_y = self.y + other.y\n",
    "        return Vector2D(new_x, new_y)\n",
    "    def __sub__(self, other):\n",
    "        return Vector2D(self.x - other.x, self.y - other.y)\n",
    "    def __str__(self):\n",
    "        return f\"Vector(x={self.x}, y={self.y})\"\n",
    "v1 = Vector2D(3, 5)\n",
    "v2 = Vector2D(1, 3)\n",
    "v3 = v1 + v2\n",
    "v4 = v1 - v2\n",
    "print(v3)\n",
    "print(v4)\n",
    "if v1 == v2:\n",
    "    print('Equal')\n",
    "else:\n",
    "    print('Inequal')"
   ]
  },
  {
   "cell_type": "code",
   "execution_count": 20,
   "id": "846dc327",
   "metadata": {},
   "outputs": [
    {
     "data": {
      "text/plain": [
       "<__main__.People at 0x1d570a5bbc0>"
      ]
     },
     "execution_count": 20,
     "metadata": {},
     "output_type": "execute_result"
    }
   ],
   "source": [
    "class People:\n",
    "    a = 'this is people claas'\n",
    "    def __init__(self):\n",
    "        self.a = 5\n",
    "        self.people = [1, 2, 3, 4, 5]\n",
    "        self.people2 = [1, 2, 3, 4, 5, 5, 6, 7, 7]\n",
    "    def __len__(self):\n",
    "        return len(self.people2)\n",
    "    def __call__(self):\n",
    "        print(\"Object called as a funcion\")\n",
    "p = People()\n",
    "p"
   ]
  },
  {
   "cell_type": "code",
   "execution_count": 22,
   "id": "c9f5071a",
   "metadata": {},
   "outputs": [
    {
     "data": {
      "text/plain": [
       "5"
      ]
     },
     "execution_count": 22,
     "metadata": {},
     "output_type": "execute_result"
    }
   ],
   "source": [
    "p.a"
   ]
  },
  {
   "cell_type": "code",
   "execution_count": 23,
   "id": "4784d627",
   "metadata": {},
   "outputs": [
    {
     "data": {
      "text/plain": [
       "<__main__.People at 0x1d570a57ce0>"
      ]
     },
     "execution_count": 23,
     "metadata": {},
     "output_type": "execute_result"
    }
   ],
   "source": [
    "class People:\n",
    "    a = 'this is people claas'\n",
    "    def __init__(self):\n",
    "        self.people = [1, 2, 3, 4, 5]\n",
    "        self.people2 = [1, 2, 3, 4, 5, 5, 6, 7, 7]\n",
    "    def __len__(self):\n",
    "        return len(self.people2)\n",
    "    def __call__(self):\n",
    "        print(\"Object called as a funcion\")\n",
    "p = People()\n",
    "p"
   ]
  },
  {
   "cell_type": "code",
   "execution_count": 24,
   "id": "ac41471c",
   "metadata": {},
   "outputs": [
    {
     "data": {
      "text/plain": [
       "'this is people claas'"
      ]
     },
     "execution_count": 24,
     "metadata": {},
     "output_type": "execute_result"
    }
   ],
   "source": [
    "p.a"
   ]
  },
  {
   "cell_type": "code",
   "execution_count": null,
   "id": "c9c04793",
   "metadata": {},
   "outputs": [
    {
     "name": "stdout",
     "output_type": "stream",
     "text": [
      "Books in library:\n",
      "1984 by George Orwell\n",
      "To Kill a Mockingbird by Harper Lee\n",
      "After removal:\n",
      "To Kill a Mockingbird by Harper Lee\n"
     ]
    }
   ],
   "source": [
    "books = []\n",
    "def add_book(title, author):\n",
    "    \"\"\"Adds a book to the library.\"\"\"\n",
    "    books.append({\"title\": title, \"author\": author})\n",
    "def remove_book(title):\n",
    "    \"\"\"Remove a book from the library by title.\"\"\"\n",
    "    global books\n",
    "    books = [book for book in books if book[\"title\"] != title]\n",
    "def list_books():\n",
    "    \"\"\"List all books in the library.\"\"\"\n",
    "    for book in books:\n",
    "        print(f\"{book['title']} by {book['author']}\")\n",
    "add_book(\"1984\", \"George Orwell\")\n",
    "add_book(\"To Kill a Mockingbird\", \"Harper Lee\")\n",
    "print(\"Books in library:\")\n",
    "list_books()\n",
    "remove_book(\"1984\")\n",
    "print(\"After removal:\")\n",
    "list_books()"
   ]
  },
  {
   "cell_type": "code",
   "execution_count": null,
   "id": "dfc8f918",
   "metadata": {},
   "outputs": [],
   "source": []
  }
 ],
 "metadata": {
  "kernelspec": {
   "display_name": "Python 3",
   "language": "python",
   "name": "python3"
  },
  "language_info": {
   "codemirror_mode": {
    "name": "ipython",
    "version": 3
   },
   "file_extension": ".py",
   "mimetype": "text/x-python",
   "name": "python",
   "nbconvert_exporter": "python",
   "pygments_lexer": "ipython3",
   "version": "3.12.9"
  }
 },
 "nbformat": 4,
 "nbformat_minor": 5
}
